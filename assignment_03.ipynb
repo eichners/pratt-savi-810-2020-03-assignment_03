{
 "cells": [
  {
   "cell_type": "markdown",
   "metadata": {},
   "source": [
    "# Assignment 03\n",
    "\n",
    "# Exploratory Data Analysis (EDA)\n",
    "\n",
    "\n",
    "#### Bring your own Data and write your own code \n",
    "\n",
    "![http://www.pratt.edu/tiny_mce/plugins/imagemanager/files/Light_brown_blue22.jpg](http://www.pratt.edu/tiny_mce/plugins/imagemanager/files/Light_brown_blue22.jpg)"
   ]
  },
  {
   "cell_type": "markdown",
   "metadata": {
    "toc": true
   },
   "source": [
    "<h1>Table of Contents<span class=\"tocSkip\"></span></h1>\n",
    "<div class=\"toc\"><ul class=\"toc-item\"><li><span><a href=\"#Assignment-03\" data-toc-modified-id=\"Assignment-03-1\">Assignment 03</a></span></li><li><span><a href=\"#Exploratory-Data-Analysis-(EDA)\" data-toc-modified-id=\"Exploratory-Data-Analysis-(EDA)-2\">Exploratory Data Analysis (EDA)</a></span><ul class=\"toc-item\"><li><ul class=\"toc-item\"><li><ul class=\"toc-item\"><li><span><a href=\"#Bring-your-own-Data-and-write-your-own-code\" data-toc-modified-id=\"Bring-your-own-Data-and-write-your-own-code-2.0.0.1\">Bring your own Data and write your own code</a></span></li></ul></li></ul></li></ul></li><li><span><a href=\"#Exploratory-Data-Analysis-(EDA)\" data-toc-modified-id=\"Exploratory-Data-Analysis-(EDA)-3\">Exploratory Data Analysis (EDA)</a></span><ul class=\"toc-item\"><li><ul class=\"toc-item\"><li><ul class=\"toc-item\"><li><span><a href=\"#Bring-your-own-Data-and-write-your-own-code\" data-toc-modified-id=\"Bring-your-own-Data-and-write-your-own-code-3.0.0.1\">Bring your own Data and write your own code</a></span></li></ul></li></ul></li><li><span><a href=\"#Instructions\" data-toc-modified-id=\"Instructions-3.1\">Instructions</a></span></li><li><span><a href=\"#Due-Date-Monday-2020/04/13\" data-toc-modified-id=\"Due-Date-Monday-2020/04/13-3.2\">Due Date Monday 2020/04/13</a></span></li></ul></li><li><span><a href=\"#Import-Libraries\" data-toc-modified-id=\"Import-Libraries-4\">Import Libraries</a></span></li><li><span><a href=\"#1.-Find-some-spatial-Data\" data-toc-modified-id=\"1.-Find-some-spatial-Data-5\">1. Find some spatial Data</a></span><ul class=\"toc-item\"><li><ul class=\"toc-item\"><li><span><a href=\"#Where-does-your-data-come-from?\" data-toc-modified-id=\"Where-does-your-data-come-from?-5.0.1\">Where does your data come from?</a></span></li><li><span><a href=\"#Describe-how-your-data-is-generated.\" data-toc-modified-id=\"Describe-how-your-data-is-generated.-5.0.2\">Describe how your data is generated.</a></span></li><li><span><a href=\"#Why-did-you-choose-this-data-file?\" data-toc-modified-id=\"Why-did-you-choose-this-data-file?-5.0.3\">Why did you choose this data file?</a></span></li></ul></li></ul></li><li><span><a href=\"#2.-Load-in-your-Geospatial-Data-as-GeoDataFrame\" data-toc-modified-id=\"2.-Load-in-your-Geospatial-Data-as-GeoDataFrame-6\">2. Load in your Geospatial Data as GeoDataFrame</a></span><ul class=\"toc-item\"><li><ul class=\"toc-item\"><li><ul class=\"toc-item\"><li><span><a href=\"#Load-your-file-into-a-GeoDataFrame\" data-toc-modified-id=\"Load-your-file-into-a-GeoDataFrame-6.0.0.1\">Load your file into a GeoDataFrame</a></span></li><li><span><a href=\"#Show-the-head()-of-the-DataFrame\" data-toc-modified-id=\"Show-the-head()-of-the-DataFrame-6.0.0.2\">Show the <code>head(</code>) of the DataFrame</a></span></li><li><span><a href=\"#Show-the-tail()-of-the-DataFrame\" data-toc-modified-id=\"Show-the-tail()-of-the-DataFrame-6.0.0.3\">Show the <code>tail(</code>) of the DataFrame</a></span></li><li><span><a href=\"#(Optional)--Do-any-additional-or-other-Data-Exploration-or-Transformation-to-your-data-in-cell(s)-below;\" data-toc-modified-id=\"(Optional)--Do-any-additional-or-other-Data-Exploration-or-Transformation-to-your-data-in-cell(s)-below;-6.0.0.4\">(Optional)  Do any additional or other Data Exploration or Transformation to your data in cell(s) below;</a></span></li></ul></li></ul></li></ul></li><li><span><a href=\"#3.-Exploratory-Data-Analysis-(EDA)-Plots\" data-toc-modified-id=\"3.-Exploratory-Data-Analysis-(EDA)-Plots-7\">3. Exploratory Data Analysis (EDA) Plots</a></span><ul class=\"toc-item\"><li><ul class=\"toc-item\"><li><ul class=\"toc-item\"><li><span><a href=\"#Plot-the-Distribution-of-one-of-your-data's-columns-in-a-Histogram-Plot-or-some-other-Matplotlib,-Seaborn,-Missingno-plot\" data-toc-modified-id=\"Plot-the-Distribution-of-one-of-your-data's-columns-in-a-Histogram-Plot-or-some-other-Matplotlib,-Seaborn,-Missingno-plot-7.0.0.1\">Plot the Distribution of one of your data's columns in a Histogram Plot or some other Matplotlib, Seaborn, Missingno plot</a></span></li><li><span><a href=\"#(Optional)-Do-any-additional-or-other-Plots-in-cell(s)-below;\" data-toc-modified-id=\"(Optional)-Do-any-additional-or-other-Plots-in-cell(s)-below;-7.0.0.2\">(Optional) Do any additional or other Plots in cell(s) below;</a></span></li></ul></li></ul></li></ul></li><li><span><a href=\"#4.-Map-your-Data\" data-toc-modified-id=\"4.-Map-your-Data-8\">4. Map your Data</a></span><ul class=\"toc-item\"><li><ul class=\"toc-item\"><li><ul class=\"toc-item\"><li><span><a href=\"#Create-GeoDataFrame-Map--.plot()-to-see-our-the-spatial-distribution-of-your-data\" data-toc-modified-id=\"Create-GeoDataFrame-Map--.plot()-to-see-our-the-spatial-distribution-of-your-data-8.0.0.1\">Create GeoDataFrame Map  <code>.plot()</code> to see our the spatial distribution of your data</a></span></li><li><span><a href=\"#(Optional)-Do-any-additional-or-other-Maps-in-cell(s)-below;\" data-toc-modified-id=\"(Optional)-Do-any-additional-or-other-Maps-in-cell(s)-below;-8.0.0.2\">(Optional) Do any additional or other Maps in cell(s) below;</a></span></li></ul></li></ul></li></ul></li><li><span><a href=\"#5.-Highlight-any-interesting-findings\" data-toc-modified-id=\"5.-Highlight-any-interesting-findings-9\">5. Highlight any interesting findings</a></span></li><li><span><a href=\"#6.-Present\" data-toc-modified-id=\"6.-Present-10\">6. Present</a></span></li></ul></div>"
   ]
  },
  {
   "cell_type": "markdown",
   "metadata": {},
   "source": [
    "# Exploratory Data Analysis (EDA)\n",
    "\n",
    "\n",
    "#### Bring your own Data and write your own code \n",
    "\n",
    "---\n",
    "\n",
    "\n",
    "## Instructions\n",
    "\n",
    "\n",
    "Assignment 03 is fairly open-ended and you can do as much or as little as you like. However, you are **required** to do the following; \n",
    "\n",
    "\n",
    "1. **Find** a geospatial data file\n",
    "2. Read it in as a **GeoDataFrame**\n",
    "3. **Perform** some **Exploratory Data Analysis** (EDA) by **creating some plots that describe your data**\n",
    "  - Perhaps plot a Histogram\n",
    "  - Perhaps plot a Bar Chart\n",
    "  - Perhaps plot a Scatterplot of two variables\n",
    "4. **Plot a map**\n",
    "  - Required: A map title \n",
    "  - A larger than default `figsize`. \n",
    "5. **Highlight any interesting findings**\n",
    "\n",
    "6. **Present** your Exploratory Data Analysis to the class **Monday 2020/04/13**\n",
    "  - Required: Present your Notebook to the class - **5-7 minute presentation in class on Monday 2020/04/13**. \n",
    "  - No need for Powerpoint or Slides, **you'll present your Notebook**. \n",
    "\n",
    "\n",
    "**Optional**:\n",
    "You may choose to do the following tasks for more practice and deeper insights. I recommended doing one of the following;\n",
    "\n",
    "* Perform some Geoprocessing (Reprojection, Buffer, Centroid, Overlay (Intersection, etc)) and plot a map. \n",
    "* Thematically style your data map, i.e. a Choropleth, Graduate Symbol, etc. \n",
    "\n",
    "If you need some inspiration for data sources try:\n",
    "\n",
    "* [NYC Open Data](https://opendata.cityofnewyork.us/)\n",
    "* [NYS Open Data](https://data.ny.gov/)\n",
    "* [US Data.gov](https://www.data.gov/)\n",
    "\n",
    "Otherwise **bring your own data**. **Note:** if your data is medical or health patient data or business data where security is an issue, **DO NOT USE BUSINESS SENSITIVE OR Personally Identifiable Information (PII) data**. If you are not sure, ask me in Slack via a Direct Message. \n",
    "\n",
    "## Due Date Monday 2020/04/13\n",
    "\n",
    "This Assignment 03 is **due Monday 2020/04/13**. \n",
    "\n",
    "You will be **presenting your Notebook to the class - 5-7 minute presentation in class on Monday 2020/04/13**.  No need for Powerpoint or Slides, you'll present your Notebook. \n"
   ]
  },
  {
   "cell_type": "markdown",
   "metadata": {},
   "source": [
    "# Import Libraries\n",
    "The libraries required for this assignment are imported for you below."
   ]
  },
  {
   "cell_type": "code",
   "execution_count": 2,
   "metadata": {},
   "outputs": [],
   "source": [
    "import pandas as pd\n",
    "import geopandas as gpd \n",
    "import numpy as np\n",
    "import matplotlib.pyplot as plt\n",
    "\n",
    "# add any additional libraries you need here"
   ]
  },
  {
   "cell_type": "code",
   "execution_count": 3,
   "metadata": {},
   "outputs": [],
   "source": [
    "%matplotlib inline\n",
    "# run this cell "
   ]
  },
  {
   "cell_type": "markdown",
   "metadata": {},
   "source": [
    "# 1. Find some spatial Data\n",
    "\n",
    "Add some text and links in the sections below.\n",
    "\n",
    "**IMPORTANT**: If your data file or any component files is greater than 50 MB - please talk to me about `.gitignore`-ing your data before you commit, push your notebook up to GitHub. "
   ]
  },
  {
   "cell_type": "markdown",
   "metadata": {},
   "source": [
    "\n",
    "### Where does your data come from? \n",
    "\n",
    "* **Data Name**: `Type in the official name of your data here, if its personal or professional data, create a name for your data`. \n",
    "* **Data Source Name**: `Type the name of the organization that created your data here`\n",
    "* **Data Source Link**: `<Paste a link to your data if on the internet, if not, leave empty>`\n",
    "\n"
   ]
  },
  {
   "cell_type": "markdown",
   "metadata": {},
   "source": [
    "### Describe how your data is generated. \n",
    "\n",
    "```Your text describing your data here```\n"
   ]
  },
  {
   "cell_type": "markdown",
   "metadata": {},
   "source": [
    "### Why did you choose this data file? \n",
    "\n",
    "```Your text describing your data here. Anything from, I'm required to explore this data for my job, I'm lazy and this was the first data I found, or I'm interested in the distribution of Motorcycle Repair shops, etc.```\n"
   ]
  },
  {
   "cell_type": "markdown",
   "metadata": {},
   "source": [
    "# 2. Load in your Geospatial Data as GeoDataFrame"
   ]
  },
  {
   "cell_type": "markdown",
   "metadata": {},
   "source": [
    "#### Load your file into a GeoDataFrame\n",
    "See **Lesson 03 GeoPandas section** for reference. \n",
    "\n",
    "You're being asking to load the GeoDataFrame as a variable named `gdf`. \n",
    "\n",
    "```python\n",
    "\n",
    "gdf = # \"read\" the file\n",
    "\n",
    "```"
   ]
  },
  {
   "cell_type": "code",
   "execution_count": 1,
   "metadata": {},
   "outputs": [],
   "source": [
    "### your code here\n",
    "### your code here\n",
    "### your code here"
   ]
  },
  {
   "cell_type": "markdown",
   "metadata": {},
   "source": [
    "#### Show the `head(`) of the DataFrame "
   ]
  },
  {
   "cell_type": "code",
   "execution_count": 4,
   "metadata": {},
   "outputs": [],
   "source": [
    "### your code here\n",
    "### your code here\n",
    "### your code here"
   ]
  },
  {
   "cell_type": "markdown",
   "metadata": {},
   "source": [
    "#### Show the `tail(`) of the DataFrame "
   ]
  },
  {
   "cell_type": "code",
   "execution_count": 5,
   "metadata": {},
   "outputs": [],
   "source": [
    "### your code here\n",
    "### your code here\n",
    "### your code here"
   ]
  },
  {
   "cell_type": "markdown",
   "metadata": {},
   "source": [
    "#### (Optional)  Do any additional or other Data Exploration or Transformation to your data in cell(s) below;"
   ]
  },
  {
   "cell_type": "code",
   "execution_count": 6,
   "metadata": {},
   "outputs": [],
   "source": [
    "### your optional code here\n",
    "### your optional code here\n",
    "### your optional code here"
   ]
  },
  {
   "cell_type": "markdown",
   "metadata": {},
   "source": [
    "# 3. Exploratory Data Analysis (EDA) Plots"
   ]
  },
  {
   "cell_type": "markdown",
   "metadata": {},
   "source": [
    "#### Plot the Distribution of one of your data's columns in a Histogram Plot or some other Matplotlib, Seaborn, Missingno plot\n",
    "If you have a numerical column, otherwise plot a bar plot to show categorical counts. \n",
    "\n",
    "* Here's an code example for a bar plot - https://python-graph-gallery.com/1-basic-barplot\n",
    "\n"
   ]
  },
  {
   "cell_type": "code",
   "execution_count": 7,
   "metadata": {},
   "outputs": [],
   "source": [
    "### your code here\n",
    "### your code here\n",
    "### your code here"
   ]
  },
  {
   "cell_type": "markdown",
   "metadata": {},
   "source": [
    "#### (Optional) Do any additional or other Plots in cell(s) below;"
   ]
  },
  {
   "cell_type": "code",
   "execution_count": 8,
   "metadata": {},
   "outputs": [],
   "source": [
    "### your optional code here\n",
    "### your optional code here\n",
    "### your optional code here"
   ]
  },
  {
   "cell_type": "markdown",
   "metadata": {},
   "source": [
    "# 4. Map your Data\n",
    "\n",
    "#### Create GeoDataFrame Map  `.plot()` to see our the spatial distribution of your data\n",
    "\n",
    "For this, please **add argument** `figsize=(10, 10)` inside our `.plot( )` function. \n",
    "\n",
    "* Add a title to your `plt` as well. _Hint `plt.title(...)`. "
   ]
  },
  {
   "cell_type": "code",
   "execution_count": 9,
   "metadata": {},
   "outputs": [],
   "source": [
    "### your code here\n",
    "### your code here\n",
    "### your code here"
   ]
  },
  {
   "cell_type": "markdown",
   "metadata": {},
   "source": [
    "#### (Optional) Do any additional or other Maps in cell(s) below;"
   ]
  },
  {
   "cell_type": "code",
   "execution_count": 10,
   "metadata": {},
   "outputs": [],
   "source": [
    "### your optional code here\n",
    "### your optional code here\n",
    "### your optional code here"
   ]
  },
  {
   "cell_type": "markdown",
   "metadata": {},
   "source": [
    "# 5. Highlight any interesting findings\n",
    "\n",
    "If there's any interesting summary statistics or findings or plots in a few key bullet points below, list some interesting notes about your data. \n",
    "\n",
    "Examples\n",
    "* My data is not normally distributed.\n",
    "* Over 50% of my values for column X are missing values. \n",
    "* I have suspicious outliers in my data\n",
    "* There appears to be some Geographic Distribution or pattern in your data. \n",
    "* Variable X appears to be correlated with Variable Y (statistical test(s) not required). \n"
   ]
  },
  {
   "cell_type": "markdown",
   "metadata": {},
   "source": [
    "# 6. Present\n",
    "\n",
    "This will be done in class, you'll need to present your Jupyter Notebook in class. \n",
    "\n",
    "**Present** your Exploratory Data Analysis to the class Monday 2020/04/13\n",
    "  - Required: Present your Notebook to the class - 5-7 minute presentation in class on Monday 2020/04/13. \n",
    "  - No need for Powerpoint or Slides, you'll present your Notebook. \n"
   ]
  }
 ],
 "metadata": {
  "kernelspec": {
   "display_name": "Python 3",
   "language": "python",
   "name": "python3"
  },
  "language_info": {
   "codemirror_mode": {
    "name": "ipython",
    "version": 3
   },
   "file_extension": ".py",
   "mimetype": "text/x-python",
   "name": "python",
   "nbconvert_exporter": "python",
   "pygments_lexer": "ipython3",
   "version": "3.7.4"
  },
  "toc": {
   "base_numbering": 1,
   "nav_menu": {},
   "number_sections": false,
   "sideBar": true,
   "skip_h1_title": false,
   "title_cell": "Table of Contents",
   "title_sidebar": "Contents",
   "toc_cell": true,
   "toc_position": {},
   "toc_section_display": true,
   "toc_window_display": true
  }
 },
 "nbformat": 4,
 "nbformat_minor": 2
}
